{
  "cells": [
    {
      "cell_type": "markdown",
      "metadata": {
        "colab_type": "text",
        "id": "view-in-github"
      },
      "source": [
        "<a href=\"https://colab.research.google.com/github/Denys88/rl_games/blob/master/notebooks/brax_training.ipynb\" target=\"_parent\"><img src=\"https://colab.research.google.com/assets/colab-badge.svg\" alt=\"Open In Colab\"/></a>"
      ]
    },
    {
      "cell_type": "code",
      "execution_count": 3,
      "metadata": {
        "id": "JbZsMYmyZiVr"
      },
      "outputs": [
        {
          "name": "stdout",
          "output_type": "stream",
          "text": [
            "Collecting git+https://github.com/Denys88/rl_games\n",
            "  Cloning https://github.com/Denys88/rl_games to /tmp/pip-req-build-8e2os00v\n",
            "  Running command git clone --filter=blob:none --quiet https://github.com/Denys88/rl_games /tmp/pip-req-build-8e2os00v\n",
            "  Resolved https://github.com/Denys88/rl_games to commit 2606effbc2ecbee93ff2cc313b25dd5b4a7f0e54\n",
            "  Installing build dependencies ... \u001b[?25ldone\n",
            "\u001b[?25h  Getting requirements to build wheel ... \u001b[?25ldone\n",
            "\u001b[?25h  Preparing metadata (pyproject.toml) ... \u001b[?25ldone\n",
            "\u001b[?25hRequirement already satisfied: PyYAML<7.0,>=6.0 in /home/gonzales/Documents/repos/rl_games/.venv/lib/python3.10/site-packages (from rl_games==1.6.1) (6.0.2)\n",
            "Collecting gym<0.24.0,>=0.23.0 (from gym[classic-control]<0.24.0,>=0.23.0->rl_games==1.6.1)\n",
            "  Using cached gym-0.23.1-py3-none-any.whl\n",
            "Collecting opencv-python<5.0.0,>=4.5.5 (from rl_games==1.6.1)\n",
            "  Downloading opencv_python-4.10.0.84-cp37-abi3-manylinux_2_17_x86_64.manylinux2014_x86_64.whl.metadata (20 kB)\n",
            "Collecting psutil<6.0.0,>=5.9.0 (from rl_games==1.6.1)\n",
            "  Downloading psutil-5.9.8-cp36-abi3-manylinux_2_12_x86_64.manylinux2010_x86_64.manylinux_2_17_x86_64.manylinux2014_x86_64.whl.metadata (21 kB)\n",
            "Collecting setproctitle<2.0.0,>=1.2.2 (from rl_games==1.6.1)\n",
            "  Downloading setproctitle-1.3.3-cp310-cp310-manylinux_2_5_x86_64.manylinux1_x86_64.manylinux_2_17_x86_64.manylinux2014_x86_64.whl.metadata (9.9 kB)\n",
            "Collecting tensorboard<3.0.0,>=2.8.0 (from rl_games==1.6.1)\n",
            "  Downloading tensorboard-2.17.1-py3-none-any.whl.metadata (1.6 kB)\n",
            "Collecting tensorboardX<3.0,>=2.5 (from rl_games==1.6.1)\n",
            "  Downloading tensorboardX-2.6.2.2-py2.py3-none-any.whl.metadata (5.8 kB)\n",
            "Collecting wandb<0.13.0,>=0.12.11 (from rl_games==1.6.1)\n",
            "  Downloading wandb-0.12.21-py2.py3-none-any.whl.metadata (7.2 kB)\n",
            "Collecting numpy>=1.18.0 (from gym<0.24.0,>=0.23.0->gym[classic-control]<0.24.0,>=0.23.0->rl_games==1.6.1)\n",
            "  Downloading numpy-2.0.1-cp310-cp310-manylinux_2_17_x86_64.manylinux2014_x86_64.whl.metadata (60 kB)\n",
            "Collecting cloudpickle>=1.2.0 (from gym<0.24.0,>=0.23.0->gym[classic-control]<0.24.0,>=0.23.0->rl_games==1.6.1)\n",
            "  Downloading cloudpickle-3.0.0-py3-none-any.whl.metadata (7.0 kB)\n",
            "Collecting gym-notices>=0.0.4 (from gym<0.24.0,>=0.23.0->gym[classic-control]<0.24.0,>=0.23.0->rl_games==1.6.1)\n",
            "  Downloading gym_notices-0.0.8-py3-none-any.whl.metadata (1.0 kB)\n",
            "Collecting pygame==2.1.0 (from gym[classic-control]<0.24.0,>=0.23.0->rl_games==1.6.1)\n",
            "  Downloading pygame-2.1.0-cp310-cp310-manylinux_2_17_x86_64.manylinux2014_x86_64.whl.metadata (9.5 kB)\n",
            "Collecting absl-py>=0.4 (from tensorboard<3.0.0,>=2.8.0->rl_games==1.6.1)\n",
            "  Downloading absl_py-2.1.0-py3-none-any.whl.metadata (2.3 kB)\n",
            "Collecting grpcio>=1.48.2 (from tensorboard<3.0.0,>=2.8.0->rl_games==1.6.1)\n",
            "  Downloading grpcio-1.65.5-cp310-cp310-manylinux_2_17_x86_64.manylinux2014_x86_64.whl.metadata (3.3 kB)\n",
            "Collecting markdown>=2.6.8 (from tensorboard<3.0.0,>=2.8.0->rl_games==1.6.1)\n",
            "  Downloading Markdown-3.7-py3-none-any.whl.metadata (7.0 kB)\n",
            "Requirement already satisfied: packaging in /home/gonzales/Documents/repos/rl_games/.venv/lib/python3.10/site-packages (from tensorboard<3.0.0,>=2.8.0->rl_games==1.6.1) (24.1)\n",
            "Collecting protobuf!=4.24.0,>=3.19.6 (from tensorboard<3.0.0,>=2.8.0->rl_games==1.6.1)\n",
            "  Downloading protobuf-5.27.3-cp38-abi3-manylinux2014_x86_64.whl.metadata (592 bytes)\n",
            "Requirement already satisfied: setuptools>=41.0.0 in /home/gonzales/Documents/repos/rl_games/.venv/lib/python3.10/site-packages (from tensorboard<3.0.0,>=2.8.0->rl_games==1.6.1) (59.6.0)\n",
            "Requirement already satisfied: six>1.9 in /home/gonzales/Documents/repos/rl_games/.venv/lib/python3.10/site-packages (from tensorboard<3.0.0,>=2.8.0->rl_games==1.6.1) (1.16.0)\n",
            "Collecting tensorboard-data-server<0.8.0,>=0.7.0 (from tensorboard<3.0.0,>=2.8.0->rl_games==1.6.1)\n",
            "  Downloading tensorboard_data_server-0.7.2-py3-none-manylinux_2_31_x86_64.whl.metadata (1.1 kB)\n",
            "Collecting werkzeug>=1.0.1 (from tensorboard<3.0.0,>=2.8.0->rl_games==1.6.1)\n",
            "  Downloading werkzeug-3.0.3-py3-none-any.whl.metadata (3.7 kB)\n",
            "Collecting Click!=8.0.0,>=7.0 (from wandb<0.13.0,>=0.12.11->rl_games==1.6.1)\n",
            "  Downloading click-8.1.7-py3-none-any.whl.metadata (3.0 kB)\n",
            "Collecting GitPython>=1.0.0 (from wandb<0.13.0,>=0.12.11->rl_games==1.6.1)\n",
            "  Downloading GitPython-3.1.43-py3-none-any.whl.metadata (13 kB)\n",
            "Requirement already satisfied: requests<3,>=2.0.0 in /home/gonzales/Documents/repos/rl_games/.venv/lib/python3.10/site-packages (from wandb<0.13.0,>=0.12.11->rl_games==1.6.1) (2.32.3)\n",
            "Collecting promise<3,>=2.0 (from wandb<0.13.0,>=0.12.11->rl_games==1.6.1)\n",
            "  Downloading promise-2.3.tar.gz (19 kB)\n",
            "  Installing build dependencies ... \u001b[?25ldone\n",
            "\u001b[?25h  Getting requirements to build wheel ... \u001b[?25ldone\n",
            "\u001b[?25h  Preparing metadata (pyproject.toml) ... \u001b[?25ldone\n",
            "\u001b[?25hCollecting shortuuid>=0.5.0 (from wandb<0.13.0,>=0.12.11->rl_games==1.6.1)\n",
            "  Downloading shortuuid-1.0.13-py3-none-any.whl.metadata (5.8 kB)\n",
            "Collecting sentry-sdk>=1.0.0 (from wandb<0.13.0,>=0.12.11->rl_games==1.6.1)\n",
            "  Downloading sentry_sdk-2.13.0-py2.py3-none-any.whl.metadata (9.7 kB)\n",
            "Collecting docker-pycreds>=0.4.0 (from wandb<0.13.0,>=0.12.11->rl_games==1.6.1)\n",
            "  Downloading docker_pycreds-0.4.0-py2.py3-none-any.whl.metadata (1.8 kB)\n",
            "Collecting protobuf!=4.24.0,>=3.19.6 (from tensorboard<3.0.0,>=2.8.0->rl_games==1.6.1)\n",
            "  Downloading protobuf-3.20.3-cp310-cp310-manylinux_2_12_x86_64.manylinux2010_x86_64.whl.metadata (679 bytes)\n",
            "Collecting pathtools (from wandb<0.13.0,>=0.12.11->rl_games==1.6.1)\n",
            "  Downloading pathtools-0.1.2.tar.gz (11 kB)\n",
            "  Installing build dependencies ... \u001b[?25ldone\n",
            "\u001b[?25h  Getting requirements to build wheel ... \u001b[?25ldone\n",
            "\u001b[?25h  Preparing metadata (pyproject.toml) ... \u001b[?25ldone\n",
            "\u001b[?25hCollecting gitdb<5,>=4.0.1 (from GitPython>=1.0.0->wandb<0.13.0,>=0.12.11->rl_games==1.6.1)\n",
            "  Downloading gitdb-4.0.11-py3-none-any.whl.metadata (1.2 kB)\n",
            "Requirement already satisfied: charset-normalizer<4,>=2 in /home/gonzales/Documents/repos/rl_games/.venv/lib/python3.10/site-packages (from requests<3,>=2.0.0->wandb<0.13.0,>=0.12.11->rl_games==1.6.1) (3.3.2)\n",
            "Requirement already satisfied: idna<4,>=2.5 in /home/gonzales/Documents/repos/rl_games/.venv/lib/python3.10/site-packages (from requests<3,>=2.0.0->wandb<0.13.0,>=0.12.11->rl_games==1.6.1) (3.7)\n",
            "Requirement already satisfied: urllib3<3,>=1.21.1 in /home/gonzales/Documents/repos/rl_games/.venv/lib/python3.10/site-packages (from requests<3,>=2.0.0->wandb<0.13.0,>=0.12.11->rl_games==1.6.1) (2.2.2)\n",
            "Requirement already satisfied: certifi>=2017.4.17 in /home/gonzales/Documents/repos/rl_games/.venv/lib/python3.10/site-packages (from requests<3,>=2.0.0->wandb<0.13.0,>=0.12.11->rl_games==1.6.1) (2024.7.4)\n",
            "Requirement already satisfied: MarkupSafe>=2.1.1 in /home/gonzales/Documents/repos/rl_games/.venv/lib/python3.10/site-packages (from werkzeug>=1.0.1->tensorboard<3.0.0,>=2.8.0->rl_games==1.6.1) (2.1.5)\n",
            "Collecting smmap<6,>=3.0.1 (from gitdb<5,>=4.0.1->GitPython>=1.0.0->wandb<0.13.0,>=0.12.11->rl_games==1.6.1)\n",
            "  Downloading smmap-5.0.1-py3-none-any.whl.metadata (4.3 kB)\n",
            "Downloading pygame-2.1.0-cp310-cp310-manylinux_2_17_x86_64.manylinux2014_x86_64.whl (18.3 MB)\n",
            "\u001b[2K   \u001b[90m━━━━━━━━━━━━━━━━━━━━━━━━━━━━━━━━━━━━━━━━\u001b[0m \u001b[32m18.3/18.3 MB\u001b[0m \u001b[31m4.8 MB/s\u001b[0m eta \u001b[36m0:00:00\u001b[0m00:01\u001b[0m00:01\u001b[0m\n",
            "\u001b[?25hDownloading opencv_python-4.10.0.84-cp37-abi3-manylinux_2_17_x86_64.manylinux2014_x86_64.whl (62.5 MB)\n",
            "\u001b[2K   \u001b[90m━━━━━━━━━━━━━━━━━━━━━━━━━━━━━━━━━━━━━━━━\u001b[0m \u001b[32m62.5/62.5 MB\u001b[0m \u001b[31m4.5 MB/s\u001b[0m eta \u001b[36m0:00:00\u001b[0m00:01\u001b[0m00:01\u001b[0m\n",
            "\u001b[?25hDownloading psutil-5.9.8-cp36-abi3-manylinux_2_12_x86_64.manylinux2010_x86_64.manylinux_2_17_x86_64.manylinux2014_x86_64.whl (288 kB)\n",
            "Downloading setproctitle-1.3.3-cp310-cp310-manylinux_2_5_x86_64.manylinux1_x86_64.manylinux_2_17_x86_64.manylinux2014_x86_64.whl (30 kB)\n",
            "Downloading tensorboard-2.17.1-py3-none-any.whl (5.5 MB)\n",
            "\u001b[2K   \u001b[90m━━━━━━━━━━━━━━━━━━━━━━━━━━━━━━━━━━━━━━━━\u001b[0m \u001b[32m5.5/5.5 MB\u001b[0m \u001b[31m4.8 MB/s\u001b[0m eta \u001b[36m0:00:00\u001b[0ma \u001b[36m0:00:01\u001b[0m\n",
            "\u001b[?25hDownloading tensorboardX-2.6.2.2-py2.py3-none-any.whl (101 kB)\n",
            "Downloading wandb-0.12.21-py2.py3-none-any.whl (1.8 MB)\n",
            "\u001b[2K   \u001b[90m━━━━━━━━━━━━━━━━━━━━━━━━━━━━━━━━━━━━━━━━\u001b[0m \u001b[32m1.8/1.8 MB\u001b[0m \u001b[31m6.4 MB/s\u001b[0m eta \u001b[36m0:00:00\u001b[0ma \u001b[36m0:00:01\u001b[0m\n",
            "\u001b[?25hDownloading absl_py-2.1.0-py3-none-any.whl (133 kB)\n",
            "Downloading click-8.1.7-py3-none-any.whl (97 kB)\n",
            "Downloading cloudpickle-3.0.0-py3-none-any.whl (20 kB)\n",
            "Downloading docker_pycreds-0.4.0-py2.py3-none-any.whl (9.0 kB)\n",
            "Downloading GitPython-3.1.43-py3-none-any.whl (207 kB)\n",
            "Downloading grpcio-1.65.5-cp310-cp310-manylinux_2_17_x86_64.manylinux2014_x86_64.whl (5.7 MB)\n",
            "\u001b[2K   \u001b[90m━━━━━━━━━━━━━━━━━━━━━━━━━━━━━━━━━━━━━━━━\u001b[0m \u001b[32m5.7/5.7 MB\u001b[0m \u001b[31m4.6 MB/s\u001b[0m eta \u001b[36m0:00:00\u001b[0ma \u001b[36m0:00:01\u001b[0m\n",
            "\u001b[?25hDownloading gym_notices-0.0.8-py3-none-any.whl (3.0 kB)\n",
            "Downloading Markdown-3.7-py3-none-any.whl (106 kB)\n",
            "Downloading numpy-2.0.1-cp310-cp310-manylinux_2_17_x86_64.manylinux2014_x86_64.whl (19.5 MB)\n",
            "\u001b[2K   \u001b[90m━━━━━━━━━━━━━━━━━━━━━━━━━━━━━━━━━━━━━━━━\u001b[0m \u001b[32m19.5/19.5 MB\u001b[0m \u001b[31m4.2 MB/s\u001b[0m eta \u001b[36m0:00:00\u001b[0m00:01\u001b[0m00:01\u001b[0m\n",
            "\u001b[?25hDownloading protobuf-3.20.3-cp310-cp310-manylinux_2_12_x86_64.manylinux2010_x86_64.whl (1.1 MB)\n",
            "\u001b[2K   \u001b[90m━━━━━━━━━━━━━━━━━━━━━━━━━━━━━━━━━━━━━━━━\u001b[0m \u001b[32m1.1/1.1 MB\u001b[0m \u001b[31m1.7 MB/s\u001b[0m eta \u001b[36m0:00:00\u001b[0m0:00:01\u001b[0m\n",
            "\u001b[?25hDownloading sentry_sdk-2.13.0-py2.py3-none-any.whl (309 kB)\n",
            "Downloading shortuuid-1.0.13-py3-none-any.whl (10 kB)\n",
            "Downloading tensorboard_data_server-0.7.2-py3-none-manylinux_2_31_x86_64.whl (6.6 MB)\n",
            "\u001b[2K   \u001b[90m━━━━━━━━━━━━━━━━━━━━━━━━━━━━━━━━━━━━━━━━\u001b[0m \u001b[32m6.6/6.6 MB\u001b[0m \u001b[31m4.8 MB/s\u001b[0m eta \u001b[36m0:00:00\u001b[0ma \u001b[36m0:00:01\u001b[0mm\n",
            "\u001b[?25hDownloading werkzeug-3.0.3-py3-none-any.whl (227 kB)\n",
            "Downloading gitdb-4.0.11-py3-none-any.whl (62 kB)\n",
            "Downloading smmap-5.0.1-py3-none-any.whl (24 kB)\n",
            "Building wheels for collected packages: rl_games, promise, pathtools\n",
            "  Building wheel for rl_games (pyproject.toml) ... \u001b[?25ldone\n",
            "\u001b[?25h  Created wheel for rl_games: filename=rl_games-1.6.1-py3-none-any.whl size=235788 sha256=e76685e98229573a20de1dfe556f4bf513d7065df5bf63da0d735e996a6f27a2\n",
            "  Stored in directory: /tmp/pip-ephem-wheel-cache-4f6vo4uk/wheels/4b/45/fc/a9cdb0c37a66016303873334054e1fceafa55e1d45bc1adc3e\n",
            "  Building wheel for promise (pyproject.toml) ... \u001b[?25ldone\n",
            "\u001b[?25h  Created wheel for promise: filename=promise-2.3-py3-none-any.whl size=21481 sha256=3f611b875b22f3e170abe22a4a1f894ba60f17265e68009ecf8bc135e001c003\n",
            "  Stored in directory: /home/gonzales/.cache/pip/wheels/54/4e/28/3ed0e1c8a752867445bab994d2340724928aa3ab059c57c8db\n",
            "  Building wheel for pathtools (pyproject.toml) ... \u001b[?25ldone\n",
            "\u001b[?25h  Created wheel for pathtools: filename=pathtools-0.1.2-py3-none-any.whl size=8791 sha256=abcf4fa557abba2ca0666797c5fec370c317fa00b237437322ef89d3676e98fd\n",
            "  Stored in directory: /home/gonzales/.cache/pip/wheels/e7/f3/22/152153d6eb222ee7a56ff8617d80ee5207207a8c00a7aab794\n",
            "Successfully built rl_games promise pathtools\n",
            "Installing collected packages: pathtools, gym-notices, werkzeug, tensorboard-data-server, smmap, shortuuid, setproctitle, sentry-sdk, pygame, psutil, protobuf, promise, numpy, markdown, grpcio, docker-pycreds, cloudpickle, Click, absl-py, tensorboardX, tensorboard, opencv-python, gym, gitdb, GitPython, wandb, rl_games\n",
            "  Attempting uninstall: psutil\n",
            "    Found existing installation: psutil 6.0.0\n",
            "    Uninstalling psutil-6.0.0:\n",
            "      Successfully uninstalled psutil-6.0.0\n",
            "Successfully installed Click-8.1.7 GitPython-3.1.43 absl-py-2.1.0 cloudpickle-3.0.0 docker-pycreds-0.4.0 gitdb-4.0.11 grpcio-1.65.5 gym-0.23.1 gym-notices-0.0.8 markdown-3.7 numpy-2.0.1 opencv-python-4.10.0.84 pathtools-0.1.2 promise-2.3 protobuf-3.20.3 psutil-5.9.8 pygame-2.1.0 rl_games-1.6.1 sentry-sdk-2.13.0 setproctitle-1.3.3 shortuuid-1.0.13 smmap-5.0.1 tensorboard-2.17.1 tensorboard-data-server-0.7.2 tensorboardX-2.6.2.2 wandb-0.12.21 werkzeug-3.0.3\n"
          ]
        }
      ],
      "source": [
        "!pip install git+https://github.com/Denys88/rl_games"
      ]
    },
    {
      "cell_type": "code",
      "execution_count": 4,
      "metadata": {
        "id": "Mq4PwGLn13Wm"
      },
      "outputs": [
        {
          "ename": "ModuleNotFoundError",
          "evalue": "No module named 'jax'",
          "output_type": "error",
          "traceback": [
            "\u001b[0;31m---------------------------------------------------------------------------\u001b[0m",
            "\u001b[0;31mModuleNotFoundError\u001b[0m                       Traceback (most recent call last)",
            "Cell \u001b[0;32mIn[4], line 11\u001b[0m\n\u001b[1;32m      7\u001b[0m \u001b[38;5;28;01mimport\u001b[39;00m \u001b[38;5;21;01mos\u001b[39;00m\n\u001b[1;32m      9\u001b[0m \u001b[38;5;28;01mfrom\u001b[39;00m \u001b[38;5;21;01mIPython\u001b[39;00m\u001b[38;5;21;01m.\u001b[39;00m\u001b[38;5;21;01mdisplay\u001b[39;00m \u001b[38;5;28;01mimport\u001b[39;00m HTML, clear_output\n\u001b[0;32m---> 11\u001b[0m \u001b[38;5;28;01mimport\u001b[39;00m \u001b[38;5;21;01mjax\u001b[39;00m\n\u001b[1;32m     12\u001b[0m \u001b[38;5;28;01mimport\u001b[39;00m \u001b[38;5;21;01mjax\u001b[39;00m\u001b[38;5;21;01m.\u001b[39;00m\u001b[38;5;21;01mnumpy\u001b[39;00m \u001b[38;5;28;01mas\u001b[39;00m \u001b[38;5;21;01mjnp\u001b[39;00m\n\u001b[1;32m     13\u001b[0m \u001b[38;5;28;01mimport\u001b[39;00m \u001b[38;5;21;01mmatplotlib\u001b[39;00m\u001b[38;5;21;01m.\u001b[39;00m\u001b[38;5;21;01mpyplot\u001b[39;00m \u001b[38;5;28;01mas\u001b[39;00m \u001b[38;5;21;01mplt\u001b[39;00m\n",
            "\u001b[0;31mModuleNotFoundError\u001b[0m: No module named 'jax'"
          ]
        }
      ],
      "source": [
        "#@title Brax training example\n",
        "#@markdown ## ⚠️ PLEASE NOTE:\n",
        "#@markdown This colab runs using a GPU runtime. From the Colab menu, choose Runtime > Change Runtime Type, then select **'GPU'** in the dropdown.\n",
        "\n",
        "from datetime import datetime\n",
        "import functools\n",
        "import os\n",
        "\n",
        "from IPython.display import HTML, clear_output\n",
        "\n",
        "import jax\n",
        "import jax.numpy as jnp\n",
        "import matplotlib.pyplot as plt\n",
        "\n",
        "try:\n",
        "  import brax\n",
        "except ImportError:\n",
        "  !pip install git+https://github.com/google/brax.git@main\n",
        "  clear_output()\n",
        "  import brax\n",
        "\n",
        "from brax import envs\n",
        "from brax.v1 import jumpy as jp\n",
        "from brax.io import html\n",
        "from brax.io import model"
      ]
    },
    {
      "cell_type": "code",
      "execution_count": null,
      "metadata": {
        "colab": {
          "base_uri": "https://localhost:8080/"
        },
        "id": "DnUgCbN3OwLB",
        "outputId": "e266fbc5-06ad-4679-e208-c5b485acaadd"
      },
      "outputs": [],
      "source": [
        "!nvidia-smi -L"
      ]
    },
    {
      "cell_type": "code",
      "execution_count": null,
      "metadata": {
        "id": "6qvHCGgpxrvZ"
      },
      "outputs": [],
      "source": [
        "%load_ext tensorboard"
      ]
    },
    {
      "cell_type": "code",
      "execution_count": null,
      "metadata": {},
      "outputs": [],
      "source": [
        "%tensorboard --logdir 'runs/'"
      ]
    },
    {
      "cell_type": "code",
      "execution_count": null,
      "metadata": {
        "id": "5Zym5GEjw_iE"
      },
      "outputs": [],
      "source": [
        "## ant brax config:\n",
        "ant_config = {'params': {'algo': {'name': 'a2c_continuous'},\n",
        "  'config': {'bound_loss_type': 'regularisation',\n",
        "   'bounds_loss_coef': 0.0,\n",
        "   'clip_value': True,\n",
        "   'critic_coef': 4,\n",
        "   'e_clip': 0.2,\n",
        "   'entropy_coef': 0.0,\n",
        "   'env_config': {'env_name': 'ant', 'seed': 5},\n",
        "   'env_name': 'brax',\n",
        "   'gamma': 0.99,\n",
        "   'grad_norm': 1.0,\n",
        "   'horizon_length': 8,\n",
        "   'kl_threshold': 0.008,\n",
        "   'learning_rate': '3e-4',\n",
        "   'lr_schedule': 'adaptive',\n",
        "   'max_epochs': 5000,\n",
        "   'mini_epochs': 4,\n",
        "   'minibatch_size': 32768,\n",
        "   'name': 'ant-brax',\n",
        "   'normalize_advantage': True,\n",
        "   'normalize_input': True,\n",
        "   'normalize_value': True,\n",
        "   'num_actors': 4096,\n",
        "   'player': {'render': True},\n",
        "   'ppo': True,\n",
        "   'reward_shaper': {'scale_value': 0.1},\n",
        "   'schedule_type': 'standard',\n",
        "   'score_to_win': 20000,\n",
        "   'tau': 0.95,\n",
        "   'truncate_grads': True,\n",
        "   'use_smooth_clamp': True,\n",
        "   'value_bootstrap': True},\n",
        "  'model': {'name': 'continuous_a2c_logstd'},\n",
        "  'network': {'mlp': {'activation': 'elu',\n",
        "    'initializer': {'name': 'default'},\n",
        "    'units': [256, 128, 64]},\n",
        "   'name': 'actor_critic',\n",
        "   'separate': False,\n",
        "   'space': {'continuous': {'fixed_sigma': True,\n",
        "     'mu_activation': 'None',\n",
        "     'mu_init': {'name': 'default'},\n",
        "     'sigma_activation': 'None',\n",
        "     'sigma_init': {'name': 'const_initializer', 'val': 0}}}},\n",
        "  'seed': 5}}"
      ]
    },
    {
      "cell_type": "code",
      "execution_count": null,
      "metadata": {
        "id": "dt2q0HgmxDrb"
      },
      "outputs": [],
      "source": [
        "## config from the openai gym mujoco (should have the same network and normalization) to render result:\n",
        "humanoid_config = {'params': {'algo': {'name': 'a2c_continuous'},\n",
        "  'config': {'bound_loss_type': 'regularisation',\n",
        "   'bounds_loss_coef': 0.0,\n",
        "   'clip_value': True,\n",
        "   'critic_coef': 4,\n",
        "   'e_clip': 0.2,\n",
        "   'entropy_coef': 0.0,\n",
        "   'env_config': {'env_name': 'humanoid', 'seed': 5},\n",
        "   'env_name': 'brax',\n",
        "   'gamma': 0.99,\n",
        "   'grad_norm': 1.0,\n",
        "   'horizon_length': 16,\n",
        "   'kl_threshold': 0.008,\n",
        "   'learning_rate': '3e-4',\n",
        "   'lr_schedule': 'adaptive',\n",
        "   'max_epochs': 5000,\n",
        "   'mini_epochs': 5,\n",
        "   'minibatch_size': 32768,\n",
        "   'name': 'humanoid-brax',\n",
        "   'normalize_advantage': True,\n",
        "   'normalize_input': True,\n",
        "   'normalize_value': True,\n",
        "   'num_actors': 4096,\n",
        "   'player': {'render': True},\n",
        "   'ppo': True,\n",
        "   'reward_shaper': {'scale_value': 0.1},\n",
        "   'schedule_type': 'standard',\n",
        "   'score_to_win': 20000,\n",
        "   'tau': 0.95,\n",
        "   'truncate_grads': True,\n",
        "   'use_smooth_clamp': True,\n",
        "   'value_bootstrap': True},\n",
        "  'model': {'name': 'continuous_a2c_logstd'},\n",
        "  'network': {'mlp': {'activation': 'elu',\n",
        "    'initializer': {'name': 'default'},\n",
        "    'units': [512, 256, 128]},\n",
        "   'name': 'actor_critic',\n",
        "   'separate': False,\n",
        "   'space': {'continuous': {'fixed_sigma': True,\n",
        "     'mu_activation': 'None',\n",
        "     'mu_init': {'name': 'default'},\n",
        "     'sigma_activation': 'None',\n",
        "     'sigma_init': {'name': 'const_initializer', 'val': 0}}}},\n",
        "  'seed': 5}}"
      ]
    },
    {
      "cell_type": "code",
      "execution_count": null,
      "metadata": {
        "colab": {
          "base_uri": "https://localhost:8080/"
        },
        "id": "swX1oGIQavbI",
        "outputId": "5489fcfb-4426-499d-909e-5b9afa7546dd"
      },
      "outputs": [],
      "source": [
        "import yaml\n",
        "from rl_games.torch_runner import Runner\n",
        "\n",
        "env_name = 'ant'  # @param ['ant', 'humanoid']\n",
        "configs = {\n",
        "    'ant' : ant_config,\n",
        "    'humanoid' : humanoid_config\n",
        "}\n",
        "networks = {\n",
        "    'ant' : 'runs/ant/nn/ant-brax.pth',\n",
        "    'humanoid' : 'runs/humanoid/nn/humanoid-brax.pth'\n",
        "}\n",
        "\n",
        "config = configs[env_name]\n",
        "network_path = networks[env_name]\n",
        "config['params']['config']['full_experiment_name'] = env_name\n",
        "config['params']['config']['max_epochs'] = 1000\n",
        "\n",
        "runner = Runner()\n",
        "runner.load(config)\n",
        "runner.run({\n",
        "    'train': True,\n",
        "})"
      ]
    },
    {
      "cell_type": "code",
      "execution_count": null,
      "metadata": {
        "id": "3s-95B-KlqE1"
      },
      "outputs": [],
      "source": [
        "from rl_games.envs.brax import BraxEnv\n",
        "\n",
        "from IPython.display import HTML, IFrame, display, clear_output\n",
        "import os"
      ]
    },
    {
      "cell_type": "code",
      "execution_count": null,
      "metadata": {
        "colab": {
          "base_uri": "https://localhost:8080/"
        },
        "id": "EikAyoGpmDpl",
        "outputId": "dd2006b1-e02a-4907-cf79-1b7d98d657e0"
      },
      "outputs": [],
      "source": [
        "agent = runner.create_player()\n",
        "agent.restore(network_path)\n",
        "\n",
        "env_config = runner.params['config']['env_config']\n",
        "num_actors = 1\n",
        "env = BraxEnv('', num_actors, **env_config)"
      ]
    },
    {
      "cell_type": "code",
      "execution_count": null,
      "metadata": {
        "colab": {
          "base_uri": "https://localhost:8080/"
        },
        "id": "L6GRBDhsubx6",
        "outputId": "75ff7fb9-d19b-4b3d-91ca-132dc3e557a6"
      },
      "outputs": [],
      "source": [
        "qps = []\n",
        "obs = env.reset()\n",
        "total_reward = 0\n",
        "num_steps = 0\n",
        "\n",
        "class QP:\n",
        "    def __init__(self, qp):\n",
        "        self.pos = jax.numpy.squeeze(qp.pos, axis=0)\n",
        "        self.rot = jax.numpy.squeeze(qp.rot, axis=0)\n",
        "\n",
        "is_done = False\n",
        "while not is_done:\n",
        "    qps.append(QP(env.env._state.qp))\n",
        "    act = agent.get_action(obs)\n",
        "    obs, reward, is_done, info = env.step(act.unsqueeze(0))\n",
        "    total_reward += reward.item()\n",
        "    num_steps += 1\n",
        "\n",
        "print('Total Reward: ', total_reward)\n",
        "print('Num steps: ', num_steps)"
      ]
    },
    {
      "cell_type": "code",
      "execution_count": null,
      "metadata": {
        "id": "-iM6S8V55i5a"
      },
      "outputs": [],
      "source": [
        "def visualize(sys, qps):\n",
        "    return HTML(html.render(sys, qps))"
      ]
    },
    {
      "cell_type": "code",
      "execution_count": null,
      "metadata": {
        "colab": {
          "base_uri": "https://localhost:8080/",
          "height": 480
        },
        "id": "7xoJWkUI5kbF",
        "outputId": "59be7c1b-2700-44ff-9b90-b5ba1aba80e7"
      },
      "outputs": [],
      "source": [
        "display(visualize(env.env._env.sys, qps))"
      ]
    }
  ],
  "metadata": {
    "accelerator": "GPU",
    "colab": {
      "collapsed_sections": [],
      "include_colab_link": true,
      "name": "rlg_colab_brax.ipynb",
      "provenance": []
    },
    "kernelspec": {
      "display_name": "Python 3.7.11 ('rl')",
      "language": "python",
      "name": "python3"
    },
    "language_info": {
      "codemirror_mode": {
        "name": "ipython",
        "version": 3
      },
      "file_extension": ".py",
      "mimetype": "text/x-python",
      "name": "python",
      "nbconvert_exporter": "python",
      "pygments_lexer": "ipython3",
      "version": "3.10.12"
    },
    "vscode": {
      "interpreter": {
        "hash": "44a9891a118a7be9dddc573b7a9be338decd7d2acd5c055c04ccaf7d7ad0ee03"
      }
    }
  },
  "nbformat": 4,
  "nbformat_minor": 0
}
